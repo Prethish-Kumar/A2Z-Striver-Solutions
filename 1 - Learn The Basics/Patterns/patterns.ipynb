{
 "cells": [
  {
   "cell_type": "code",
   "execution_count": 40,
   "metadata": {},
   "outputs": [
    {
     "name": "stdout",
     "output_type": "stream",
     "text": [
      "*****\n",
      "*****\n",
      "*****\n",
      "*****\n",
      "*****\n"
     ]
    }
   ],
   "source": [
    "for x in range(1,6):\n",
    "    for j in range(1,6):\n",
    "        print('*', end='')\n",
    "    print('')"
   ]
  },
  {
   "cell_type": "code",
   "execution_count": 41,
   "metadata": {},
   "outputs": [
    {
     "name": "stdout",
     "output_type": "stream",
     "text": [
      "*****\n",
      "*****\n",
      "*****\n",
      "*****\n",
      "*****\n"
     ]
    }
   ],
   "source": [
    "for x in range(1,6):\n",
    "        print('*'*5)"
   ]
  },
  {
   "cell_type": "code",
   "execution_count": 42,
   "metadata": {},
   "outputs": [
    {
     "name": "stdout",
     "output_type": "stream",
     "text": [
      "*\n",
      "**\n",
      "***\n",
      "****\n",
      "*****\n"
     ]
    }
   ],
   "source": [
    "for x in range(1,6):\n",
    "    for j in range(x):\n",
    "        print('*', end='')\n",
    "    print('')"
   ]
  },
  {
   "cell_type": "code",
   "execution_count": 43,
   "metadata": {},
   "outputs": [
    {
     "name": "stdout",
     "output_type": "stream",
     "text": [
      "1\n",
      "22\n",
      "333\n",
      "4444\n",
      "55555\n"
     ]
    }
   ],
   "source": [
    "for x in range(1,6):\n",
    "    for j in range(1,x+1):\n",
    "        print(x, end='')\n",
    "    print('')"
   ]
  },
  {
   "cell_type": "code",
   "execution_count": 44,
   "metadata": {},
   "outputs": [
    {
     "name": "stdout",
     "output_type": "stream",
     "text": [
      "1\n",
      "12\n",
      "123\n",
      "1234\n",
      "12345\n"
     ]
    }
   ],
   "source": [
    "for x in range(1,6):\n",
    "    for j in range(1,x+1):\n",
    "        print(j, end='')\n",
    "    print('')"
   ]
  },
  {
   "cell_type": "code",
   "execution_count": 45,
   "metadata": {},
   "outputs": [
    {
     "name": "stdout",
     "output_type": "stream",
     "text": [
      "*****\n",
      "****\n",
      "***\n",
      "**\n",
      "*\n"
     ]
    }
   ],
   "source": [
    "for x in range(5,0,-1):\n",
    "    for j in range(1,x+1):\n",
    "        print('*',end='')\n",
    "    print('')"
   ]
  },
  {
   "cell_type": "code",
   "execution_count": 46,
   "metadata": {},
   "outputs": [
    {
     "name": "stdout",
     "output_type": "stream",
     "text": [
      "12345\n",
      "1234\n",
      "123\n",
      "12\n",
      "1\n"
     ]
    }
   ],
   "source": [
    "for x in range(5,0,-1):\n",
    "    for j in range(1,x+1):\n",
    "        print(j, end='')\n",
    "    print('')"
   ]
  },
  {
   "cell_type": "code",
   "execution_count": 47,
   "metadata": {},
   "outputs": [
    {
     "name": "stdout",
     "output_type": "stream",
     "text": [
      "----*----\n",
      "---***---\n",
      "--*****--\n",
      "-*******-\n",
      "*********\n"
     ]
    }
   ],
   "source": [
    "n = 5\n",
    "\n",
    "for i in range(n):\n",
    "    for j in range(n-i-1):\n",
    "        print(\"-\",end='')\n",
    "\n",
    "    for j in range(2*i+1):\n",
    "        print(\"*\",end='')\n",
    "    \n",
    "    for j in range(n-i-1):\n",
    "        print(\"-\",end='')\n",
    "    print('')\n",
    "    "
   ]
  },
  {
   "cell_type": "code",
   "execution_count": 48,
   "metadata": {},
   "outputs": [
    {
     "name": "stdout",
     "output_type": "stream",
     "text": [
      "*********\n",
      " ******* \n",
      "  *****  \n",
      "   ***   \n",
      "    *    \n"
     ]
    }
   ],
   "source": [
    "n = 5\n",
    "for r in range(n):\n",
    "    for j in range(r):\n",
    "        print(' ',end='')\n",
    "    \n",
    "    for j in range(2*n - 2*r - 1):\n",
    "        print('*',end='')\n",
    "\n",
    "    for j in range(r):\n",
    "        print(' ',end='')\n",
    "    print('')"
   ]
  },
  {
   "cell_type": "code",
   "execution_count": 49,
   "metadata": {},
   "outputs": [
    {
     "name": "stdout",
     "output_type": "stream",
     "text": [
      "  *  \n",
      " *** \n",
      "*****\n",
      "*****\n",
      " *** \n",
      "  *  \n"
     ]
    }
   ],
   "source": [
    "n = 3\n",
    "\n",
    "for i in range(n):\n",
    "    for j in range(n-i-1):\n",
    "        print(\" \",end='')\n",
    "\n",
    "    for j in range(2*i+1):\n",
    "        print(\"*\",end='')\n",
    "    \n",
    "    for j in range(n-i-1):\n",
    "        print(\" \",end='')\n",
    "    print('')\n",
    "\n",
    "for r in range(n):\n",
    "    for j in range(r):\n",
    "        print(' ',end='')\n",
    "    \n",
    "    for j in range(2*n - 2*r - 1):\n",
    "        print('*',end='')\n",
    "\n",
    "    for j in range(r):\n",
    "        print(' ',end='')\n",
    "    print('')"
   ]
  },
  {
   "cell_type": "code",
   "execution_count": 50,
   "metadata": {},
   "outputs": [
    {
     "name": "stdout",
     "output_type": "stream",
     "text": [
      "*\n",
      "**\n",
      "***\n",
      "****\n",
      "*****\n",
      "******\n",
      "*****\n",
      "****\n",
      "***\n",
      "**\n",
      "*\n"
     ]
    }
   ],
   "source": [
    "n = 6\n",
    "t = 0\n",
    "\n",
    "for r in range(2*n-1):\n",
    "    t+= 1\n",
    "    if t<=n:\n",
    "        for x in range(t):\n",
    "            print('*',end='')\n",
    "\n",
    "    else:\n",
    "        for x in range(2*n - t):\n",
    "            print('*',end='')\n",
    "    print('')"
   ]
  },
  {
   "cell_type": "code",
   "execution_count": 51,
   "metadata": {},
   "outputs": [
    {
     "name": "stdout",
     "output_type": "stream",
     "text": [
      "1\n",
      "01\n",
      "101\n",
      "0101\n",
      "10101\n",
      "010101\n"
     ]
    }
   ],
   "source": [
    "n = 6\n",
    "\n",
    "for r in range(n):\n",
    "    if r % 2 == 0:\n",
    "        start = 1\n",
    "        print(start,end='')\n",
    "    else:\n",
    "        start = 0\n",
    "        print(start,end='')\n",
    "    \n",
    "    for x in range(r):\n",
    "        start = 1-start\n",
    "        print(start,end='')\n",
    "    print('')"
   ]
  },
  {
   "cell_type": "code",
   "execution_count": 52,
   "metadata": {},
   "outputs": [
    {
     "name": "stdout",
     "output_type": "stream",
     "text": [
      "1          1\n",
      "12        21\n",
      "123      321\n",
      "1234    4321\n",
      "12345  54321\n",
      "123456654321\n"
     ]
    }
   ],
   "source": [
    "n = 6\n",
    "\n",
    "for r in range(1,n+1):\n",
    "    for j in range(1,r+1):\n",
    "        print(j, end='')\n",
    "    for j in range(1,2*n - 2*r+1):\n",
    "        print(' ',end='')\n",
    "    for j in range(r,0,-1):\n",
    "        print(j,end='')\n",
    "\n",
    "    print('')"
   ]
  },
  {
   "cell_type": "code",
   "execution_count": 53,
   "metadata": {},
   "outputs": [
    {
     "name": "stdout",
     "output_type": "stream",
     "text": [
      "1 \n",
      "2 3 \n",
      "4 5 6 \n",
      "7 8 9 10 \n",
      "11 12 13 14 15 \n",
      "16 17 18 19 20 21 \n"
     ]
    }
   ],
   "source": [
    "n = 6\n",
    "num = 1\n",
    "for r in range(1,n+1):\n",
    "    for j in range(r):\n",
    "        print(num,end=' ')\n",
    "        num +=1\n",
    "    print('')\n"
   ]
  },
  {
   "cell_type": "code",
   "execution_count": 54,
   "metadata": {},
   "outputs": [
    {
     "name": "stdout",
     "output_type": "stream",
     "text": [
      "A \n",
      "A B \n",
      "A B C \n",
      "A B C D \n",
      "A B C D E \n",
      "A B C D E F \n"
     ]
    }
   ],
   "source": [
    "n = 6\n",
    "\n",
    "ch = 'A'\n",
    "\n",
    "for r in range(1,n+1):\n",
    "    for j in range(r):\n",
    "        print(ch,end=' ')\n",
    "        ch = chr(ord(ch) +1)\n",
    "    ch = 'A'\n",
    "    print('')"
   ]
  },
  {
   "cell_type": "code",
   "execution_count": 55,
   "metadata": {},
   "outputs": [
    {
     "name": "stdout",
     "output_type": "stream",
     "text": [
      "A B C D E \n",
      "A B C D \n",
      "A B C \n",
      "A B \n",
      "A \n"
     ]
    }
   ],
   "source": [
    "n = 5\n",
    "\n",
    "ch = 'A'\n",
    "\n",
    "for r in range(n,0,-1):\n",
    "    for j in range(r):\n",
    "        print(ch,end=' ')\n",
    "        ch = chr(ord(ch) +1)\n",
    "    ch = 'A'\n",
    "    print('')"
   ]
  },
  {
   "cell_type": "code",
   "execution_count": 56,
   "metadata": {},
   "outputs": [
    {
     "name": "stdout",
     "output_type": "stream",
     "text": [
      "A \n",
      "B B \n",
      "C C C \n",
      "D D D D \n",
      "E E E E E \n"
     ]
    }
   ],
   "source": [
    "n = 5\n",
    "\n",
    "ch = 'A'\n",
    "\n",
    "for r  in range(1,n+1):\n",
    "    for j in range(r):\n",
    "        print(ch,end=' ')\n",
    "    ch = chr(ord(ch)+1)\n",
    "    print('')\n"
   ]
  },
  {
   "cell_type": "code",
   "execution_count": 57,
   "metadata": {},
   "outputs": [
    {
     "ename": "IndentationError",
     "evalue": "expected an indented block after 'for' statement on line 12 (1156180902.py, line 15)",
     "output_type": "error",
     "traceback": [
      "\u001b[1;36m  Cell \u001b[1;32mIn[57], line 15\u001b[1;36m\u001b[0m\n\u001b[1;33m    for j in range(int((2*n - 2*r)/2)):\u001b[0m\n\u001b[1;37m    ^\u001b[0m\n\u001b[1;31mIndentationError\u001b[0m\u001b[1;31m:\u001b[0m expected an indented block after 'for' statement on line 12\n"
     ]
    }
   ],
   "source": [
    "n = 3\n",
    "\n",
    "\n",
    "\n",
    "for r in range(1,n+1):\n",
    "    ch = 'A'\n",
    "    point = r+1/2\n",
    "\n",
    "    for j in range(int((2*n - 2*r)/2)): # or just n-r-1\n",
    "        print(' ',end='')\n",
    "\n",
    "    for j in range(2*r - 1):\n",
    "        \n",
    "    \n",
    "    for j in range(int((2*n - 2*r)/2)):\n",
    "        print(' ',end='')\n",
    "    \n",
    "    print('')"
   ]
  },
  {
   "cell_type": "code",
   "execution_count": 35,
   "metadata": {},
   "outputs": [
    {
     "name": "stdout",
     "output_type": "stream",
     "text": [
      "F \n",
      "E F \n",
      "D E F \n",
      "C D E F \n",
      "B C D E F \n",
      "A B C D E F \n"
     ]
    }
   ],
   "source": [
    "ch = 'A'\n",
    "n = 6\n",
    "\n",
    "for r in range(1,n+1):\n",
    "    ch = chr(ord('A')+ (n-r))\n",
    "    print(ch,end=' ')\n",
    "    for j in range(1,r):\n",
    "        print(chr(ord(ch)+j),end=' ')\n",
    "\n",
    "    print('')\n"
   ]
  },
  {
   "cell_type": "code",
   "execution_count": 18,
   "metadata": {},
   "outputs": [
    {
     "name": "stdout",
     "output_type": "stream",
     "text": [
      "*\n",
      "*\n"
     ]
    }
   ],
   "source": [
    "****** #3 - 0 - 3\n",
    "**  ** #2 - 2 - 2\n",
    "*    * #1 - 4 - 1\n",
    "*    * #1 - 4 - 1\n",
    "**  ** #2 - 2 - 2\n",
    "****** #3 - 0 - 3"
   ]
  },
  {
   "cell_type": "code",
   "execution_count": 48,
   "metadata": {},
   "outputs": [
    {
     "name": "stdout",
     "output_type": "stream",
     "text": [
      "******\n",
      "**  **\n",
      "*    *\n",
      "*    *\n",
      "**  **\n",
      "******\n"
     ]
    }
   ],
   "source": [
    "n = 3\n",
    "for r in range(n,0,-1):\n",
    "    for j in range(r):\n",
    "        print('*',end='')\n",
    "    \n",
    "    for j in range(2*n - 2*r):\n",
    "        print(' ',end='')\n",
    "    \n",
    "    for j in range(r):\n",
    "        print('*',end='')\n",
    "    print('')\n",
    "\n",
    "for r in range(1,n+1):\n",
    "    for j in range(r):\n",
    "        print('*',end='')\n",
    "    \n",
    "    for j in range(2*n - 2*r):\n",
    "        print(' ',end='')\n",
    "    \n",
    "    for j in range(r):\n",
    "        print('*',end='')\n",
    "    print('')\n"
   ]
  },
  {
   "cell_type": "code",
   "execution_count": 58,
   "metadata": {},
   "outputs": [
    {
     "name": "stdout",
     "output_type": "stream",
     "text": [
      "*          *\n",
      "**        **\n",
      "***      ***\n",
      "****    ****\n",
      "*****  *****\n",
      "************\n",
      "*****  *****\n",
      "****    ****\n",
      "***      ***\n",
      "**        **\n",
      "*          *\n"
     ]
    }
   ],
   "source": [
    "n = 6\n",
    "\n",
    "for r  in range(1,n+1):\n",
    "    for j in range(r):\n",
    "        print('*',end='')\n",
    "    \n",
    "    for j in range(2*n-2*r):\n",
    "        print(' ',end='')\n",
    "\n",
    "\n",
    "    for j in range(r):\n",
    "        print('*',end='')\n",
    "    print('')\n",
    "\n",
    "for r in range(r-1,0,-1):\n",
    "    for j in range(r):\n",
    "        print('*',end='')\n",
    "    \n",
    "    for j in range(2*n-2*r):\n",
    "        print(' ',end='')\n",
    "\n",
    "\n",
    "    for j in range(r):\n",
    "        print('*',end='')\n",
    "    print('')\n"
   ]
  },
  {
   "cell_type": "code",
   "execution_count": 73,
   "metadata": {},
   "outputs": [
    {
     "name": "stdout",
     "output_type": "stream",
     "text": [
      "*******\n",
      "*     *\n",
      "*     *\n",
      "*     *\n",
      "*     *\n",
      "*     *\n",
      "*******\n"
     ]
    }
   ],
   "source": [
    "n = 7\n",
    "\n",
    "for r in range(n):\n",
    "    if r == 0 or r == n-1:\n",
    "        for j in range(n):\n",
    "            print('*',end='')\n",
    "    \n",
    "    else:\n",
    "        print('*',end='')\n",
    "\n",
    "        for j in range(n-2):\n",
    "            print(' ',end='')\n",
    "\n",
    "\n",
    "        print('*',end='')\n",
    "    print('')"
   ]
  },
  {
   "cell_type": "code",
   "execution_count": 59,
   "metadata": {},
   "outputs": [
    {
     "name": "stdout",
     "output_type": "stream",
     "text": [
      "Python total: 500000000500000000\n",
      "Python execution time: 99.5776960849762 seconds\n"
     ]
    }
   ],
   "source": [
    "import time\n",
    "\n",
    "# Start timer\n",
    "start_time = time.time()\n",
    "\n",
    "# Sum of numbers from 1 to 1 billion\n",
    "total = 0\n",
    "for i in range(1, 1_000_000_001):\n",
    "    total += i\n",
    "\n",
    "# End timer\n",
    "end_time = time.time()\n",
    "\n",
    "print(f\"Python total: {total}\")\n",
    "print(f\"Python execution time: {end_time - start_time} seconds\")\n"
   ]
  },
  {
   "cell_type": "code",
   "execution_count": null,
   "metadata": {},
   "outputs": [],
   "source": []
  }
 ],
 "metadata": {
  "kernelspec": {
   "display_name": "Python 3",
   "language": "python",
   "name": "python3"
  },
  "language_info": {
   "codemirror_mode": {
    "name": "ipython",
    "version": 3
   },
   "file_extension": ".py",
   "mimetype": "text/x-python",
   "name": "python",
   "nbconvert_exporter": "python",
   "pygments_lexer": "ipython3",
   "version": "3.13.0"
  }
 },
 "nbformat": 4,
 "nbformat_minor": 2
}
