{
 "cells": [
  {
   "cell_type": "code",
   "execution_count": null,
   "metadata": {},
   "outputs": [
    {
     "data": {
      "text/plain": [
       "[[1], [1, 1], [1, 2, 1], [1, 3, 3, 1], [1, 4, 6, 4, 1]]"
      ]
     },
     "execution_count": 20,
     "metadata": {},
     "output_type": "execute_result"
    }
   ],
   "source": [
    "# Pascal Triangle\n",
    "\n",
    "\n",
    "def f(n):\n",
    "\n",
    "    ans = []\n",
    "\n",
    "    for i in range(1,n+1):\n",
    "        runningnum = 1\n",
    "        templist = []\n",
    "        # Starting\n",
    "        templist.append(runningnum)\n",
    "        \n",
    "        for j in range(1,i):\n",
    "            runningnum *= i - j\n",
    "            runningnum //= j\n",
    "            templist.append(runningnum)\n",
    "\n",
    "        ans.append(templist)\n",
    "\n",
    "    return ans\n",
    "\n",
    "f(5)\n"
   ]
  },
  {
   "cell_type": "code",
   "execution_count": null,
   "metadata": {},
   "outputs": [
    {
     "data": {
      "text/plain": [
       "[3]"
      ]
     },
     "execution_count": 28,
     "metadata": {},
     "output_type": "execute_result"
    }
   ],
   "source": [
    "#  Majority Element II\n",
    "\n",
    "\n",
    "def f(nums):\n",
    "    el1,el2 = float('-inf'),float('-inf')\n",
    "    c1,c2 = 0,0 \n",
    "    ls = []\n",
    "\n",
    "    for i in range(len(nums)):\n",
    "        if c1 == 0 and el2 != nums[i]:\n",
    "            el1 = nums[i]\n",
    "            c1 = 1\n",
    "            \n",
    "        elif c2 == 0 and el1 != nums[i]:\n",
    "            el2 = nums[i]\n",
    "            c2 = 1\n",
    "        \n",
    "        elif el1 == nums[i]:\n",
    "            c1 += 1\n",
    "\n",
    "        elif el2 == nums[i]:\n",
    "            c2 += 1\n",
    "        \n",
    "        else:\n",
    "            c1 -=1\n",
    "            c2 -=1\n",
    "\n",
    "    cnt1, cnt2 = 0, 0\n",
    "    for i in range(len(nums)):\n",
    "        if nums[i] == el1:\n",
    "            cnt1 += 1\n",
    "        if nums[i] == el2:\n",
    "            cnt2 += 1\n",
    "\n",
    "    mini = int(len(nums) / 3) + 1\n",
    "    if cnt1 >= mini:\n",
    "        ls.append(el1)\n",
    "    if cnt2 >= mini:\n",
    "        ls.append(el2)\n",
    "\n",
    "    return ls\n",
    "\n",
    "\n",
    "    \n",
    "\n",
    "f([3,2,3])"
   ]
  },
  {
   "cell_type": "code",
   "execution_count": null,
   "metadata": {},
   "outputs": [
    {
     "data": {
      "text/plain": [
       "[[-1, -1, 2], [-1, 0, 1]]"
      ]
     },
     "execution_count": 17,
     "metadata": {},
     "output_type": "execute_result"
    }
   ],
   "source": [
    "# 3 Sum\n",
    "\n",
    "nums = [-1,0,1,2,-1,-4]\n",
    "\n",
    "def f(nums):\n",
    "    n = len(nums)\n",
    "    nums.sort()\n",
    "    s = []\n",
    "    for i in range(n):\n",
    "        if i != 0 and nums[i] == nums[i - 1]:\n",
    "            continue\n",
    "\n",
    "        left,right = i+1, n-1\n",
    "\n",
    "        while left < right:\n",
    "            if nums[i] + nums[left] + nums[right] == 0:\n",
    "                s.append([nums[i], nums[left],nums[right]])\n",
    "\n",
    "                while left < right and nums[left] == nums[left + 1]:\n",
    "                    left += 1\n",
    "                while left < right and nums[right] == nums[right - 1]:\n",
    "                    right -= 1\n",
    "                left += 1\n",
    "                right -=1\n",
    "\n",
    "            elif nums[i] + nums[left] + nums[right] < 0:\n",
    "                left += 1\n",
    "            elif nums[i] + nums[left] + nums[right] > 0:\n",
    "                right -= 1\n",
    "\n",
    "\n",
    "    return s\n",
    "\n",
    "\n",
    "f(nums)\n"
   ]
  },
  {
   "cell_type": "code",
   "execution_count": 28,
   "metadata": {},
   "outputs": [
    {
     "data": {
      "text/plain": [
       "[[-2, -1, 1, 2], [-1, -1, 1, 1]]"
      ]
     },
     "execution_count": 28,
     "metadata": {},
     "output_type": "execute_result"
    }
   ],
   "source": [
    "# 4 Sum \n",
    "\n",
    "\n",
    "def f(nums, k):\n",
    "    n = len(nums)\n",
    "    ans = []\n",
    "    nums.sort()\n",
    "    for i in range(n):\n",
    "        if i !=0 and nums[i] == nums[i-1]:\n",
    "            continue\n",
    "        for j in range(i+1,n):\n",
    "            if j > i+1 and nums[j] == nums[j-1]:\n",
    "                continue\n",
    "            \n",
    "            left = j+1\n",
    "            right = n-1\n",
    "\n",
    "            while left < right:\n",
    "\n",
    "                if nums[i] + nums[j] + nums[left] + nums[right] < k:\n",
    "                    left += 1\n",
    "\n",
    "                elif nums[i] + nums[j] + nums[left] + nums[right] > k:\n",
    "                    right -= 1\n",
    "\n",
    "                elif nums[i] + nums[j] + nums[left] + nums[right] == k:\n",
    "                    ans.append([nums[i],nums[j], nums[left],nums[right]])\n",
    "\n",
    "                    left += 1\n",
    "                    right -= 1\n",
    "\n",
    "                    while left < right and nums[left] == nums[left - 1]:\n",
    "                        left += 1\n",
    "\n",
    "                    while left < right and nums[right] == nums[right + 1]:\n",
    "                        right -= 1\n",
    "\n",
    "\n",
    "\n",
    "\n",
    "    return ans\n",
    "\n",
    "\n",
    "f([-2,-1,-1,1,1,2,2], 0)"
   ]
  },
  {
   "cell_type": "code",
   "execution_count": null,
   "metadata": {},
   "outputs": [],
   "source": []
  }
 ],
 "metadata": {
  "kernelspec": {
   "display_name": "Python 3",
   "language": "python",
   "name": "python3"
  },
  "language_info": {
   "codemirror_mode": {
    "name": "ipython",
    "version": 3
   },
   "file_extension": ".py",
   "mimetype": "text/x-python",
   "name": "python",
   "nbconvert_exporter": "python",
   "pygments_lexer": "ipython3",
   "version": "3.11.5"
  }
 },
 "nbformat": 4,
 "nbformat_minor": 2
}
