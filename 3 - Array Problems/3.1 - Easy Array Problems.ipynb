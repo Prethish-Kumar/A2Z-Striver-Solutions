{
 "cells": [
  {
   "cell_type": "code",
   "execution_count": 20,
   "metadata": {},
   "outputs": [],
   "source": [
    "# Largest Element in Array\n",
    "\n",
    "def largest(self, arr):\n",
    "        max = arr[0]\n",
    "        for i in arr:\n",
    "            if i > max:\n",
    "                max = i\n",
    "                \n",
    "        return max"
   ]
  },
  {
   "cell_type": "code",
   "execution_count": 21,
   "metadata": {},
   "outputs": [
    {
     "name": "stdout",
     "output_type": "stream",
     "text": [
      "34\n"
     ]
    }
   ],
   "source": [
    "# Second Largest Element in Array\n",
    "\n",
    "a =[12,35,1,10,34,1]\n",
    "\n",
    "max = -1\n",
    "smax = -1\n",
    "\n",
    "for i in a:\n",
    "    if i > max:\n",
    "        smax = max\n",
    "        max = i\n",
    "    \n",
    "    elif i > smax and i < max:\n",
    "        smax = i\n",
    "\n",
    "print(smax)"
   ]
  },
  {
   "cell_type": "code",
   "execution_count": 22,
   "metadata": {},
   "outputs": [
    {
     "data": {
      "text/plain": [
       "True"
      ]
     },
     "execution_count": 22,
     "metadata": {},
     "output_type": "execute_result"
    }
   ],
   "source": [
    "nums = [3,4,5,1,2]\n",
    "\n",
    "\n",
    "def f(nums):\n",
    "    for n in range(1,len(nums)+1):\n",
    "        temp = nums[n:] + nums[:n]\n",
    "\n",
    "        is_sorted = True\n",
    "        for i in range(len(temp)-1):\n",
    "            if temp[i] > temp[i+1]:\n",
    "                is_sorted = False\n",
    "                break\n",
    "            \n",
    "        if is_sorted:\n",
    "            return True\n",
    "            \n",
    "    return False\n",
    "    \n",
    "f(nums)"
   ]
  },
  {
   "cell_type": "code",
   "execution_count": 23,
   "metadata": {},
   "outputs": [
    {
     "data": {
      "text/plain": [
       "5"
      ]
     },
     "execution_count": 23,
     "metadata": {},
     "output_type": "execute_result"
    }
   ],
   "source": [
    "# 26. Remove Duplicates from Sorted Array\n",
    "\n",
    "nums = [0,0,1,1,1,2,2,3,3,4]\n",
    "\n",
    "def f(nums):\n",
    "    n = len(nums)\n",
    "\n",
    "    if n == 0:\n",
    "        return 0\n",
    "    \n",
    "    low, high = 1,1\n",
    "\n",
    "    while high < n:\n",
    "        if nums[high] != nums[low - 1]:\n",
    "            nums[low] = nums[high]\n",
    "            low +=1\n",
    "        high +=1\n",
    "\n",
    "    return low\n",
    "\n",
    "f(nums)\n",
    "\n"
   ]
  },
  {
   "cell_type": "code",
   "execution_count": 24,
   "metadata": {},
   "outputs": [
    {
     "data": {
      "text/plain": [
       "[5, 6, 7, 4, 1, 2, 3]"
      ]
     },
     "execution_count": 24,
     "metadata": {},
     "output_type": "execute_result"
    }
   ],
   "source": [
    "# 189. Rotate Array - Sol 1\n",
    "nums = [1,2,3,4,5,6,7]\n",
    "k = 3\n",
    "\n",
    "nums[-k:], nums[:k] = nums[:k], nums[-k:] \n",
    "\n",
    "nums\n",
    "    "
   ]
  },
  {
   "cell_type": "code",
   "execution_count": 25,
   "metadata": {},
   "outputs": [
    {
     "data": {
      "text/plain": [
       "[5, 6, 7, 1, 2, 3, 4]"
      ]
     },
     "execution_count": 25,
     "metadata": {},
     "output_type": "execute_result"
    }
   ],
   "source": [
    "# 189. Rotate Array - Sol 2\n",
    "nums = [1,2,3,4,5,6,7]\n",
    "k = 3\n",
    "\n",
    "nums.reverse()\n",
    "\n",
    "nums[:k] = reversed(nums[:k])\n",
    "nums[k:] = reversed(nums[k:])\n",
    "\n",
    "nums"
   ]
  },
  {
   "cell_type": "code",
   "execution_count": 26,
   "metadata": {},
   "outputs": [
    {
     "data": {
      "text/plain": [
       "[1, 3, 12, 0, 0]"
      ]
     },
     "execution_count": 26,
     "metadata": {},
     "output_type": "execute_result"
    }
   ],
   "source": [
    "# 283. Move Zeroes\n",
    "\n",
    "\n",
    "nums = [0,1,0,3,12]\n",
    "\n",
    "def f(nums):\n",
    "    n = len(nums)\n",
    "    low, high = 0,0\n",
    "\n",
    "    while high < n:\n",
    "        if nums[high] != 0:\n",
    "            nums[low],nums[high] = nums[high], nums[low]\n",
    "            high += 1\n",
    "            low += 1\n",
    "        else:\n",
    "            high += 1\n",
    "\n",
    "    return nums\n",
    "\n",
    "f(nums)"
   ]
  },
  {
   "cell_type": "code",
   "execution_count": 27,
   "metadata": {},
   "outputs": [
    {
     "name": "stdout",
     "output_type": "stream",
     "text": [
      "2\n"
     ]
    }
   ],
   "source": [
    "nums = [3,0,1]\n",
    "\n",
    "n = len(nums)\n",
    "\n",
    "for i in range(n):\n",
    "    if i not in nums:\n",
    "        print(i) "
   ]
  },
  {
   "cell_type": "code",
   "execution_count": 28,
   "metadata": {},
   "outputs": [],
   "source": [
    "# 136. Single Number\n",
    "\n",
    "\n",
    "nums = [4,1,2,1,2]\n",
    "\n",
    "def singleNumber(nums):\n",
    "    unique = 0\n",
    "    for num in nums:\n",
    "        unique ^= num\n",
    "    return unique"
   ]
  },
  {
   "cell_type": "code",
   "execution_count": 29,
   "metadata": {},
   "outputs": [
    {
     "data": {
      "text/plain": [
       "[0, 0, 1, 1, 2, 2]"
      ]
     },
     "execution_count": 29,
     "metadata": {},
     "output_type": "execute_result"
    }
   ],
   "source": [
    "# 75. Sort Colors\n",
    "\n",
    "nums = [2,0,2,1,1,0]\n",
    "\n",
    "def f(nums):\n",
    "\n",
    "    n = len(nums)\n",
    "    low, mid , high = 0, 0, n-1\n",
    "\n",
    "    while mid <= high:\n",
    "        if nums[mid] == 0:\n",
    "            nums[low],nums[mid] = nums[mid], nums[low]\n",
    "            low +=1\n",
    "            mid +=1\n",
    "        \n",
    "        elif nums[mid] == 1:\n",
    "            mid +=1\n",
    "        \n",
    "        elif nums[mid] == 2:\n",
    "            nums[high], nums[mid] = nums[mid], nums[high]\n",
    "            high -=1\n",
    "    \n",
    "    return nums\n",
    "\n",
    "f(nums)"
   ]
  },
  {
   "cell_type": "code",
   "execution_count": 30,
   "metadata": {},
   "outputs": [
    {
     "data": {
      "text/plain": [
       "7"
      ]
     },
     "execution_count": 30,
     "metadata": {},
     "output_type": "execute_result"
    }
   ],
   "source": [
    "prices = [7,6,4,3,1]\n",
    "\n",
    "def f(prices):\n",
    "    min_idx = 0\n",
    "    \n",
    "    n = len(prices)\n",
    "    max_idx = 0\n",
    "\n",
    "    for p in range(n):\n",
    "        if prices[p] < prices[min_idx]:\n",
    "            min_idx = p\n",
    "\n",
    "    for j in range(min_idx,n):\n",
    "        if prices[j] > prices[max_idx]:\n",
    "            max_idx = j\n",
    "    \n",
    "    return prices[max_idx]\n",
    "\n",
    "f(prices)\n",
    "    "
   ]
  },
  {
   "cell_type": "code",
   "execution_count": 31,
   "metadata": {},
   "outputs": [
    {
     "ename": "KeyboardInterrupt",
     "evalue": "Interrupted by user",
     "output_type": "error",
     "traceback": [
      "\u001b[1;31m---------------------------------------------------------------------------\u001b[0m",
      "\u001b[1;31mKeyboardInterrupt\u001b[0m                         Traceback (most recent call last)",
      "Cell \u001b[1;32mIn[31], line 1\u001b[0m\n\u001b[1;32m----> 1\u001b[0m distance \u001b[38;5;241m=\u001b[39m \u001b[38;5;28mint\u001b[39m(\u001b[38;5;28;43minput\u001b[39;49m\u001b[43m(\u001b[49m\u001b[43m)\u001b[49m)\n\u001b[0;32m      4\u001b[0m \u001b[38;5;28;01mdef\u001b[39;00m \u001b[38;5;21mf\u001b[39m(distance):\n\u001b[0;32m      5\u001b[0m     steps\u001b[38;5;241m=\u001b[39m [\u001b[38;5;241m1\u001b[39m,\u001b[38;5;241m2\u001b[39m,\u001b[38;5;241m3\u001b[39m,\u001b[38;5;241m4\u001b[39m,\u001b[38;5;241m5\u001b[39m]\n",
      "File \u001b[1;32m~\\AppData\\Roaming\\Python\\Python311\\site-packages\\ipykernel\\kernelbase.py:1282\u001b[0m, in \u001b[0;36mKernel.raw_input\u001b[1;34m(self, prompt)\u001b[0m\n\u001b[0;32m   1280\u001b[0m     msg \u001b[38;5;241m=\u001b[39m \u001b[38;5;124m\"\u001b[39m\u001b[38;5;124mraw_input was called, but this frontend does not support input requests.\u001b[39m\u001b[38;5;124m\"\u001b[39m\n\u001b[0;32m   1281\u001b[0m     \u001b[38;5;28;01mraise\u001b[39;00m StdinNotImplementedError(msg)\n\u001b[1;32m-> 1282\u001b[0m \u001b[38;5;28;01mreturn\u001b[39;00m \u001b[38;5;28;43mself\u001b[39;49m\u001b[38;5;241;43m.\u001b[39;49m\u001b[43m_input_request\u001b[49m\u001b[43m(\u001b[49m\n\u001b[0;32m   1283\u001b[0m \u001b[43m    \u001b[49m\u001b[38;5;28;43mstr\u001b[39;49m\u001b[43m(\u001b[49m\u001b[43mprompt\u001b[49m\u001b[43m)\u001b[49m\u001b[43m,\u001b[49m\n\u001b[0;32m   1284\u001b[0m \u001b[43m    \u001b[49m\u001b[38;5;28;43mself\u001b[39;49m\u001b[38;5;241;43m.\u001b[39;49m\u001b[43m_parent_ident\u001b[49m\u001b[43m[\u001b[49m\u001b[38;5;124;43m\"\u001b[39;49m\u001b[38;5;124;43mshell\u001b[39;49m\u001b[38;5;124;43m\"\u001b[39;49m\u001b[43m]\u001b[49m\u001b[43m,\u001b[49m\n\u001b[0;32m   1285\u001b[0m \u001b[43m    \u001b[49m\u001b[38;5;28;43mself\u001b[39;49m\u001b[38;5;241;43m.\u001b[39;49m\u001b[43mget_parent\u001b[49m\u001b[43m(\u001b[49m\u001b[38;5;124;43m\"\u001b[39;49m\u001b[38;5;124;43mshell\u001b[39;49m\u001b[38;5;124;43m\"\u001b[39;49m\u001b[43m)\u001b[49m\u001b[43m,\u001b[49m\n\u001b[0;32m   1286\u001b[0m \u001b[43m    \u001b[49m\u001b[43mpassword\u001b[49m\u001b[38;5;241;43m=\u001b[39;49m\u001b[38;5;28;43;01mFalse\u001b[39;49;00m\u001b[43m,\u001b[49m\n\u001b[0;32m   1287\u001b[0m \u001b[43m\u001b[49m\u001b[43m)\u001b[49m\n",
      "File \u001b[1;32m~\\AppData\\Roaming\\Python\\Python311\\site-packages\\ipykernel\\kernelbase.py:1325\u001b[0m, in \u001b[0;36mKernel._input_request\u001b[1;34m(self, prompt, ident, parent, password)\u001b[0m\n\u001b[0;32m   1322\u001b[0m \u001b[38;5;28;01mexcept\u001b[39;00m \u001b[38;5;167;01mKeyboardInterrupt\u001b[39;00m:\n\u001b[0;32m   1323\u001b[0m     \u001b[38;5;66;03m# re-raise KeyboardInterrupt, to truncate traceback\u001b[39;00m\n\u001b[0;32m   1324\u001b[0m     msg \u001b[38;5;241m=\u001b[39m \u001b[38;5;124m\"\u001b[39m\u001b[38;5;124mInterrupted by user\u001b[39m\u001b[38;5;124m\"\u001b[39m\n\u001b[1;32m-> 1325\u001b[0m     \u001b[38;5;28;01mraise\u001b[39;00m \u001b[38;5;167;01mKeyboardInterrupt\u001b[39;00m(msg) \u001b[38;5;28;01mfrom\u001b[39;00m \u001b[38;5;28;01mNone\u001b[39;00m\n\u001b[0;32m   1326\u001b[0m \u001b[38;5;28;01mexcept\u001b[39;00m \u001b[38;5;167;01mException\u001b[39;00m:\n\u001b[0;32m   1327\u001b[0m     \u001b[38;5;28mself\u001b[39m\u001b[38;5;241m.\u001b[39mlog\u001b[38;5;241m.\u001b[39mwarning(\u001b[38;5;124m\"\u001b[39m\u001b[38;5;124mInvalid Message:\u001b[39m\u001b[38;5;124m\"\u001b[39m, exc_info\u001b[38;5;241m=\u001b[39m\u001b[38;5;28;01mTrue\u001b[39;00m)\n",
      "\u001b[1;31mKeyboardInterrupt\u001b[0m: Interrupted by user"
     ]
    }
   ],
   "source": [
    "distance = int(input())\n",
    "\n",
    "\n",
    "def f(distance):\n",
    "    steps= [1,2,3,4,5]\n",
    "    count = 0\n",
    "\n",
    "    if distance<= 5:\n",
    "        return 1\n",
    "    \n",
    "    else:\n",
    "        for i in range(len(steps)-1,-1,-1):\n",
    "            print(distance)\n",
    "            if distance - steps[i] >= 0:\n",
    "                distance -= steps[i]\n",
    "                count +=1\n",
    "\n",
    "            else:\n",
    "                pass\n",
    "        return count\n",
    "\n",
    "f(distance)"
   ]
  },
  {
   "cell_type": "code",
   "execution_count": null,
   "metadata": {},
   "outputs": [],
   "source": [
    "# Longest Subarray with given Sum K(Positives)\n",
    "\n",
    "nums = [2,3,5,1,9]\n",
    "target = 10\n",
    "sum = 0\n",
    "\n",
    "def f(nums):\n",
    "    low, high = 0,0\n",
    "\n",
    "    while low <= high:\n",
    "        nums[low]\n",
    "\n"
   ]
  },
  {
   "cell_type": "code",
   "execution_count": null,
   "metadata": {},
   "outputs": [
    {
     "data": {
      "text/plain": [
       "6"
      ]
     },
     "execution_count": 7,
     "metadata": {},
     "output_type": "execute_result"
    }
   ],
   "source": [
    "nums = [6, 14, 27, 32, 39, 54, 70, 72, 77, 81]\n",
    "target = 70\n",
    "\n",
    "def f(nums, target):\n",
    "    n = len(nums)\n",
    "    low, high = 0, n-1\n",
    "\n",
    "    while low <= high:\n",
    "        mid = (low+high) // 2\n",
    "\n",
    "        if nums[mid] == target:\n",
    "            return mid\n",
    "        \n",
    "        if nums[mid] > target:\n",
    "            high = mid - 1\n",
    "\n",
    "        if nums[mid] < target:\n",
    "            low = mid + 1\n",
    "\n",
    "\n",
    "f(nums, target)"
   ]
  },
  {
   "cell_type": "code",
   "execution_count": null,
   "metadata": {},
   "outputs": [
    {
     "data": {
      "text/plain": [
       "3"
      ]
     },
     "execution_count": 3,
     "metadata": {},
     "output_type": "execute_result"
    }
   ],
   "source": [
    "# Longest Subarray with sum K (Positive & Negatives)\n",
    "\n",
    "nums = [2,0,0,3]\n",
    "k= 3\n",
    "\n",
    "\n",
    "def f(nums,k):\n",
    "    n = len(nums) \n",
    "    prefixsum = 0   \n",
    "    prefixhash ={}\n",
    "    maxlen = 0\n",
    "    l = 0\n",
    "\n",
    "    for i in range(n):\n",
    "        prefixsum += nums[i]\n",
    "        \n",
    "        if prefixsum == k:\n",
    "            maxlen = max(maxlen, i+1)\n",
    "        \n",
    "        rem = prefixsum - k\n",
    "        \n",
    "        if rem in prefixhash:\n",
    "            l = i - prefixhash[rem]\n",
    "            maxlen = max(maxlen,l)\n",
    "\n",
    "        if prefixsum not in prefixhash:\n",
    "            prefixhash[prefixsum] = i\n",
    "\n",
    "    return maxlen\n",
    " \n",
    "f(nums,k) "
   ]
  },
  {
   "cell_type": "code",
   "execution_count": null,
   "metadata": {},
   "outputs": [
    {
     "data": {
      "text/plain": [
       "4"
      ]
     },
     "execution_count": 12,
     "metadata": {},
     "output_type": "execute_result"
    }
   ],
   "source": [
    "# Longest Subarray with sum K [Postives] -  Optimised\n",
    "\n",
    "nums = [1,2,3,1,1,1,1,3,3]\n",
    "k = 6\n",
    "\n",
    "def f(nums,k):\n",
    "    n = len(nums)\n",
    "    low, high = 0,0\n",
    "    curr_sum = nums[0]\n",
    "    maxlen = 0\n",
    "    while high < n:\n",
    "\n",
    "        if curr_sum == k:\n",
    "            length = high - low + 1\n",
    "            maxlen = max(maxlen, length)\n",
    "            \n",
    "            if high + 1 < n:  \n",
    "                high += 1\n",
    "                curr_sum += nums[high]\n",
    "            else:\n",
    "                break\n",
    "\n",
    "        elif curr_sum > k:\n",
    "            curr_sum -= nums[low]\n",
    "            low += 1\n",
    "\n",
    "        elif curr_sum < k:\n",
    "            if high +1 < n:\n",
    "                high += 1\n",
    "                curr_sum += nums[high]\n",
    "            else:\n",
    "                break\n",
    "\n",
    "\n",
    "\n",
    "    return maxlen\n",
    "\n",
    "\n",
    "f(nums,k)"
   ]
  },
  {
   "cell_type": "code",
   "execution_count": 23,
   "metadata": {},
   "outputs": [
    {
     "data": {
      "text/plain": [
       "[1, 2, 3, 4, 5, 6, 7, 8, 9, 10, 11, 12]"
      ]
     },
     "execution_count": 23,
     "metadata": {},
     "output_type": "execute_result"
    }
   ],
   "source": [
    "#  Union Of 2 Lists\n",
    "\n",
    "nums1 = [1, 2, 3, 4, 5, 6, 7, 8, 9, 10]\n",
    "nums2 = [2, 3, 4, 4, 5, 11, 12]\n",
    "union = []\n",
    "\n",
    "def f(nums1,nums2):\n",
    "    i,j = 0,0\n",
    "    n1 = len(nums1)\n",
    "    n2 = len(nums2)\n",
    "\n",
    "    while i < n1 and j < n2:\n",
    "        if (nums1[i] <= nums2[j] ) and (len(union) == 0 or nums1[i] != union[-1]):\n",
    "            union.append(nums1[i])\n",
    "            i +=1\n",
    "\n",
    "        else:\n",
    "            if len(union) == 0 or nums2[j] != union[-1]:\n",
    "                union.append(nums2[j])\n",
    "            j += 1\n",
    "    \n",
    "    while i < n1:\n",
    "        if len(union) == 0 or nums1[i] != union[-1]:\n",
    "            union.append(nums1[i])\n",
    "            i += 1\n",
    "    \n",
    "    while j < n2:\n",
    "        if len(union) == 0 or nums2[j] != union[-1]:\n",
    "            union.append(nums2[j])\n",
    "            j += 1\n",
    "\n",
    "    return union\n",
    "\n",
    "\n",
    "f(nums1,nums2)"
   ]
  },
  {
   "cell_type": "code",
   "execution_count": 20,
   "metadata": {},
   "outputs": [
    {
     "data": {
      "text/plain": [
       "[1, 2, 3, 4, 5, 6, 7, 8, 9, 10, 11, 12]"
      ]
     },
     "execution_count": 20,
     "metadata": {},
     "output_type": "execute_result"
    }
   ],
   "source": [
    "nums1 = [1, 2, 3, 4, 5, 6, 7, 8, 9, 10]\n",
    "nums2 = [2, 3, 4, 4, 5, 11, 12]\n",
    "\n",
    "def find_union(arr1, arr2):\n",
    "    i, j = 0, 0  # Pointers\n",
    "    union = []  # Union list\n",
    "\n",
    "    while i < len(arr1) and j < len(arr2):\n",
    "        if arr1[i] <= arr2[j]:  # Case 1 and 2\n",
    "            if len(union) == 0 or union[-1] != arr1[i]:\n",
    "                union.append(arr1[i])\n",
    "            i += 1\n",
    "        else:  # Case 3\n",
    "            if len(union) == 0 or union[-1] != arr2[j]:\n",
    "                union.append(arr2[j])\n",
    "            j += 1\n",
    "\n",
    "    while i < len(arr1):  # If any elements left in arr1\n",
    "        if union[-1] != arr1[i]:\n",
    "            union.append(arr1[i])\n",
    "        i += 1\n",
    "\n",
    "    while j < len(arr2):  # If any elements left in arr2\n",
    "        if union[-1] != arr2[j]:\n",
    "            union.append(arr2[j])\n",
    "        j += 1\n",
    "\n",
    "    return union\n",
    "\n",
    "find_union(nums1,nums2)"
   ]
  },
  {
   "cell_type": "code",
   "execution_count": null,
   "metadata": {},
   "outputs": [],
   "source": []
  }
 ],
 "metadata": {
  "kernelspec": {
   "display_name": "Python 3",
   "language": "python",
   "name": "python3"
  },
  "language_info": {
   "codemirror_mode": {
    "name": "ipython",
    "version": 3
   },
   "file_extension": ".py",
   "mimetype": "text/x-python",
   "name": "python",
   "nbconvert_exporter": "python",
   "pygments_lexer": "ipython3",
   "version": "3.11.5"
  }
 },
 "nbformat": 4,
 "nbformat_minor": 2
}
