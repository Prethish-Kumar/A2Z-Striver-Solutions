{
 "cells": [
  {
   "cell_type": "code",
   "execution_count": null,
   "metadata": {},
   "outputs": [],
   "source": [
    "# Largest Element in Array\n",
    "\n",
    "def largest(self, arr):\n",
    "        max = arr[0]\n",
    "        for i in arr:\n",
    "            if i > max:\n",
    "                max = i\n",
    "                \n",
    "        return max"
   ]
  },
  {
   "cell_type": "code",
   "execution_count": null,
   "metadata": {},
   "outputs": [
    {
     "name": "stdout",
     "output_type": "stream",
     "text": [
      "34\n"
     ]
    }
   ],
   "source": [
    "# Second Largest Element in Array\n",
    "\n",
    "a =[12,35,1,10,34,1]\n",
    "\n",
    "max = -1\n",
    "smax = -1\n",
    "\n",
    "for i in a:\n",
    "    if i > max:\n",
    "        smax = max\n",
    "        max = i\n",
    "    \n",
    "    elif i > smax and i < max:\n",
    "        smax = i\n",
    "\n",
    "print(smax)"
   ]
  },
  {
   "cell_type": "code",
   "execution_count": null,
   "metadata": {},
   "outputs": [],
   "source": [
    "nums = [3,4,5,1,2]\n",
    "\n",
    "\n",
    "def f(nums):\n",
    "    for n in range(1,len(nums)+1):\n",
    "        temp = nums[n:] + nums[:n]\n",
    "\n",
    "        is_sorted = True\n",
    "        for i in range(len(temp)-1):\n",
    "            if temp[i] > temp[i+1]:\n",
    "                is_sorted = False\n",
    "                break\n",
    "            \n",
    "        if is_sorted:\n",
    "            return True\n",
    "            \n",
    "    return False\n",
    "    \n",
    "f(nums)"
   ]
  },
  {
   "cell_type": "code",
   "execution_count": null,
   "metadata": {},
   "outputs": [
    {
     "data": {
      "text/plain": [
       "(5, [0, 1, 2, 3, 4, 2, 2, 3, 3, 4])"
      ]
     },
     "execution_count": 28,
     "metadata": {},
     "output_type": "execute_result"
    }
   ],
   "source": [
    "# 26. Remove Duplicates from Sorted Array\n",
    "\n",
    "nums = [0,0,1,1,1,2,2,3,3,4]\n",
    "\n",
    "def f(nums):\n",
    "    n = len(nums)\n",
    "\n",
    "    if n == 0:\n",
    "        return 0\n",
    "    \n",
    "    low, high = 1,1\n",
    "\n",
    "    while high < n:\n",
    "        if nums[high] != nums[low - 1]:\n",
    "            nums[low] = nums[high]\n",
    "            low +=1\n",
    "        high +=1\n",
    "\n",
    "    return low\n",
    "\n",
    "f(nums)\n",
    "\n"
   ]
  },
  {
   "cell_type": "code",
   "execution_count": null,
   "metadata": {},
   "outputs": [
    {
     "data": {
      "text/plain": [
       "[5, 6, 7, 4, 1, 2, 3]"
      ]
     },
     "execution_count": 42,
     "metadata": {},
     "output_type": "execute_result"
    }
   ],
   "source": [
    "# 189. Rotate Array - Sol 1\n",
    "nums = [1,2,3,4,5,6,7]\n",
    "k = 3\n",
    "\n",
    "nums[-k:], nums[:k] = nums[:k], nums[-k:] \n",
    "\n",
    "nums\n",
    "    "
   ]
  },
  {
   "cell_type": "code",
   "execution_count": null,
   "metadata": {},
   "outputs": [
    {
     "data": {
      "text/plain": [
       "[5, 6, 7, 1, 2, 3, 4]"
      ]
     },
     "execution_count": 49,
     "metadata": {},
     "output_type": "execute_result"
    }
   ],
   "source": [
    "# 189. Rotate Array - Sol 2\n",
    "nums = [1,2,3,4,5,6,7]\n",
    "k = 3\n",
    "\n",
    "nums.reverse()\n",
    "\n",
    "nums[:k] = reversed(nums[:k])\n",
    "nums[k:] = reversed(nums[k:])\n",
    "\n",
    "nums"
   ]
  },
  {
   "cell_type": "code",
   "execution_count": 52,
   "metadata": {},
   "outputs": [
    {
     "data": {
      "text/plain": [
       "[1, 3, 12, 0, 0]"
      ]
     },
     "execution_count": 52,
     "metadata": {},
     "output_type": "execute_result"
    }
   ],
   "source": [
    "# 283. Move Zeroes\n",
    "\n",
    "\n",
    "nums = [0,1,0,3,12]\n",
    "# [1,0,0,3,12]\n",
    "\n",
    "\n",
    "def f(nums):\n",
    "    n = len(nums)\n",
    "\n",
    "    if n < 2:\n",
    "        return nums\n",
    "    \n",
    "    low, high = 0, 0\n",
    "    \n",
    "    while high < n:\n",
    "        if nums[high] != 0:\n",
    "            nums[low],nums[high] = nums[high],nums[low] \n",
    "            low += 1\n",
    "            high +=1\n",
    "        \n",
    "        else:\n",
    "            high +=1\n",
    "\n",
    "f(nums)\n",
    "nums\n"
   ]
  },
  {
   "cell_type": "code",
   "execution_count": 54,
   "metadata": {},
   "outputs": [
    {
     "name": "stdout",
     "output_type": "stream",
     "text": [
      "2\n"
     ]
    }
   ],
   "source": [
    "nums = [3,0,1]\n",
    "\n",
    "n = len(nums)\n",
    "\n",
    "for i in range(n):\n",
    "    if i not in nums:\n",
    "        print(i) "
   ]
  },
  {
   "cell_type": "code",
   "execution_count": null,
   "metadata": {},
   "outputs": [],
   "source": [
    "# 136. Single Number\n",
    "\n",
    "\n",
    "nums = [4,1,2,1,2]\n",
    "\n",
    "def singleNumber(nums):\n",
    "    unique = 0\n",
    "    for num in nums:\n",
    "        unique ^= num\n",
    "    return unique"
   ]
  },
  {
   "cell_type": "code",
   "execution_count": null,
   "metadata": {},
   "outputs": [
    {
     "data": {
      "text/plain": [
       "[0, 0, 1, 1, 2, 2]"
      ]
     },
     "execution_count": 57,
     "metadata": {},
     "output_type": "execute_result"
    }
   ],
   "source": [
    "# 75. Sort Colors\n",
    "\n",
    "nums = [2,0,2,1,1,0]\n",
    "\n",
    "def f(nums):\n",
    "\n",
    "    n = len(nums)\n",
    "    low, mid , high = 0, 0, n-1\n",
    "\n",
    "    while mid <= high:\n",
    "        if nums[mid] == 0:\n",
    "            nums[low],nums[mid] = nums[mid], nums[low]\n",
    "            low +=1\n",
    "            mid +=1\n",
    "        \n",
    "        elif nums[mid] == 1:\n",
    "            mid +=1\n",
    "        \n",
    "        elif nums[mid] == 2:\n",
    "            nums[high], nums[mid] = nums[mid], nums[high]\n",
    "            high -=1\n",
    "    \n",
    "    return nums\n",
    "\n",
    "f(nums)"
   ]
  },
  {
   "cell_type": "code",
   "execution_count": 65,
   "metadata": {},
   "outputs": [
    {
     "data": {
      "text/plain": [
       "7"
      ]
     },
     "execution_count": 65,
     "metadata": {},
     "output_type": "execute_result"
    }
   ],
   "source": [
    "prices = [7,6,4,3,1]\n",
    "\n",
    "def f(prices):\n",
    "    min_idx = 0\n",
    "    \n",
    "    n = len(prices)\n",
    "    max_idx = 0\n",
    "\n",
    "    for p in range(n):\n",
    "        if prices[p] < prices[min_idx]:\n",
    "            min_idx = p\n",
    "\n",
    "    for j in range(min_idx,n):\n",
    "        if prices[j] > prices[max_idx]:\n",
    "            max_idx = j\n",
    "    \n",
    "    return prices[max_idx]\n",
    "\n",
    "f(prices)\n",
    "    "
   ]
  },
  {
   "cell_type": "code",
   "execution_count": 79,
   "metadata": {},
   "outputs": [
    {
     "name": "stdout",
     "output_type": "stream",
     "text": [
      "7\n",
      "2\n",
      "2\n",
      "2\n",
      "0\n"
     ]
    },
    {
     "data": {
      "text/plain": [
       "2"
      ]
     },
     "execution_count": 79,
     "metadata": {},
     "output_type": "execute_result"
    }
   ],
   "source": [
    "distance = int(input())\n",
    "\n",
    "\n",
    "def f(distance):\n",
    "    steps= [1,2,3,4,5]\n",
    "    count = 0\n",
    "\n",
    "    if distance<= 5:\n",
    "        return 1\n",
    "    \n",
    "    else:\n",
    "        for i in range(len(steps)-1,-1,-1):\n",
    "            print(distance)\n",
    "            if distance - steps[i] >= 0:\n",
    "                distance -= steps[i]\n",
    "                count +=1\n",
    "\n",
    "            else:\n",
    "                pass\n",
    "        return count\n",
    "\n",
    "f(distance)"
   ]
  },
  {
   "cell_type": "code",
   "execution_count": null,
   "metadata": {},
   "outputs": [],
   "source": []
  }
 ],
 "metadata": {
  "kernelspec": {
   "display_name": "Python 3",
   "language": "python",
   "name": "python3"
  },
  "language_info": {
   "codemirror_mode": {
    "name": "ipython",
    "version": 3
   },
   "file_extension": ".py",
   "mimetype": "text/x-python",
   "name": "python",
   "nbconvert_exporter": "python",
   "pygments_lexer": "ipython3",
   "version": "3.11.5"
  }
 },
 "nbformat": 4,
 "nbformat_minor": 2
}
