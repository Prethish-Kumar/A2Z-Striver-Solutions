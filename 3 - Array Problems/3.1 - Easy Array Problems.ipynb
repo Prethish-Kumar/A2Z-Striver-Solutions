{
 "cells": [
  {
   "cell_type": "code",
   "execution_count": null,
   "metadata": {},
   "outputs": [],
   "source": [
    "# Largest Element in Array\n",
    "\n",
    "def largest(self, arr):\n",
    "        max = arr[0]\n",
    "        for i in arr:\n",
    "            if i > max:\n",
    "                max = i\n",
    "                \n",
    "        return max"
   ]
  },
  {
   "cell_type": "code",
   "execution_count": null,
   "metadata": {},
   "outputs": [
    {
     "name": "stdout",
     "output_type": "stream",
     "text": [
      "34\n"
     ]
    }
   ],
   "source": [
    "# Second Largest Element in Array\n",
    "\n",
    "a =[12,35,1,10,34,1]\n",
    "\n",
    "max = -1\n",
    "smax = -1\n",
    "\n",
    "for i in a:\n",
    "    if i > max:\n",
    "        smax = max\n",
    "        max = i\n",
    "    \n",
    "    elif i > smax and i < max:\n",
    "        smax = i\n",
    "\n",
    "print(smax)"
   ]
  },
  {
   "cell_type": "code",
   "execution_count": null,
   "metadata": {},
   "outputs": [],
   "source": [
    "nums = [3,4,5,1,2]\n",
    "\n",
    "\n",
    "def f(nums):\n",
    "    for n in range(1,len(nums)+1):\n",
    "        temp = nums[n:] + nums[:n]\n",
    "\n",
    "        is_sorted = True\n",
    "        for i in range(len(temp)-1):\n",
    "            if temp[i] > temp[i+1]:\n",
    "                is_sorted = False\n",
    "                break\n",
    "            \n",
    "        if is_sorted:\n",
    "            return True\n",
    "            \n",
    "    return False\n",
    "    \n",
    "f(nums)"
   ]
  },
  {
   "cell_type": "code",
   "execution_count": null,
   "metadata": {},
   "outputs": [
    {
     "ename": "IndexError",
     "evalue": "list index out of range",
     "output_type": "error",
     "traceback": [
      "\u001b[1;31m---------------------------------------------------------------------------\u001b[0m",
      "\u001b[1;31mIndexError\u001b[0m                                Traceback (most recent call last)",
      "Cell \u001b[1;32mIn[6], line 19\u001b[0m\n\u001b[0;32m     16\u001b[0m                 high \u001b[38;5;241m+\u001b[39m\u001b[38;5;241m=\u001b[39m\u001b[38;5;241m1\u001b[39m\n\u001b[0;32m     17\u001b[0m     \u001b[38;5;28;01mreturn\u001b[39;00m nums\n\u001b[1;32m---> 19\u001b[0m \u001b[43mf\u001b[49m\u001b[43m(\u001b[49m\u001b[43mnums\u001b[49m\u001b[43m)\u001b[49m\n",
      "Cell \u001b[1;32mIn[6], line 10\u001b[0m, in \u001b[0;36mf\u001b[1;34m(nums)\u001b[0m\n\u001b[0;32m      8\u001b[0m \u001b[38;5;28;01mfor\u001b[39;00m i \u001b[38;5;129;01min\u001b[39;00m \u001b[38;5;28mrange\u001b[39m(n):\n\u001b[0;32m      9\u001b[0m     \u001b[38;5;28;01mfor\u001b[39;00m j \u001b[38;5;129;01min\u001b[39;00m \u001b[38;5;28mrange\u001b[39m(n):\n\u001b[1;32m---> 10\u001b[0m         \u001b[38;5;28;01mif\u001b[39;00m nums[low] \u001b[38;5;241m==\u001b[39m \u001b[43mnums\u001b[49m\u001b[43m[\u001b[49m\u001b[43mhigh\u001b[49m\u001b[43m]\u001b[49m:\n\u001b[0;32m     11\u001b[0m             nums[high] \u001b[38;5;241m=\u001b[39m \u001b[38;5;124m'\u001b[39m\u001b[38;5;124m_\u001b[39m\u001b[38;5;124m'\u001b[39m\n\u001b[0;32m     12\u001b[0m             high \u001b[38;5;241m+\u001b[39m\u001b[38;5;241m=\u001b[39m\u001b[38;5;241m1\u001b[39m\n",
      "\u001b[1;31mIndexError\u001b[0m: list index out of range"
     ]
    }
   ],
   "source": [
    "# 26. Remove Duplicates from Sorted Array\n",
    "\n",
    "nums = [0,0,1,1,1,2,2,3,3,4]\n",
    "\n",
    "def f(nums):\n",
    "    n = len(nums)\n",
    "    low, high = 0, 1\n",
    "    for i in range(n):\n",
    "        for j in range(n):\n",
    "            if nums[low] == nums[high]:\n",
    "                nums[high] = '_'\n",
    "                high +=1\n",
    "            else:\n",
    "                nums[i] = nums[low]\n",
    "                low = high\n",
    "                high +=1\n",
    "    return nums\n",
    "\n",
    "f(nums)\n",
    "\n"
   ]
  },
  {
   "cell_type": "code",
   "execution_count": null,
   "metadata": {},
   "outputs": [],
   "source": []
  }
 ],
 "metadata": {
  "kernelspec": {
   "display_name": "Python 3",
   "language": "python",
   "name": "python3"
  },
  "language_info": {
   "codemirror_mode": {
    "name": "ipython",
    "version": 3
   },
   "file_extension": ".py",
   "mimetype": "text/x-python",
   "name": "python",
   "nbconvert_exporter": "python",
   "pygments_lexer": "ipython3",
   "version": "3.11.5"
  }
 },
 "nbformat": 4,
 "nbformat_minor": 2
}
