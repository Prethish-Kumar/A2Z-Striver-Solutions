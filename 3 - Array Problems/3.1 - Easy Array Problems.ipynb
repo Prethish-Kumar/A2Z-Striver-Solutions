{
 "cells": [
  {
   "cell_type": "code",
   "execution_count": null,
   "metadata": {},
   "outputs": [],
   "source": [
    "# Largest Element in Array\n",
    "\n",
    "def largest(self, arr):\n",
    "        max = arr[0]\n",
    "        for i in arr:\n",
    "            if i > max:\n",
    "                max = i\n",
    "                \n",
    "        return max"
   ]
  },
  {
   "cell_type": "code",
   "execution_count": null,
   "metadata": {},
   "outputs": [
    {
     "name": "stdout",
     "output_type": "stream",
     "text": [
      "34\n"
     ]
    }
   ],
   "source": [
    "# Second Largest Element in Array\n",
    "\n",
    "a =[12,35,1,10,34,1]\n",
    "\n",
    "max = -1\n",
    "smax = -1\n",
    "\n",
    "for i in a:\n",
    "    if i > max:\n",
    "        smax = max\n",
    "        max = i\n",
    "    \n",
    "    elif i > smax and i < max:\n",
    "        smax = i\n",
    "\n",
    "print(smax)"
   ]
  },
  {
   "cell_type": "code",
   "execution_count": null,
   "metadata": {},
   "outputs": [],
   "source": [
    "nums = [3,4,5,1,2]\n",
    "\n",
    "\n",
    "def f(nums):\n",
    "    for n in range(1,len(nums)+1):\n",
    "        temp = nums[n:] + nums[:n]\n",
    "\n",
    "        is_sorted = True\n",
    "        for i in range(len(temp)-1):\n",
    "            if temp[i] > temp[i+1]:\n",
    "                is_sorted = False\n",
    "                break\n",
    "            \n",
    "        if is_sorted:\n",
    "            return True\n",
    "            \n",
    "    return False\n",
    "    \n",
    "f(nums)"
   ]
  },
  {
   "cell_type": "code",
   "execution_count": null,
   "metadata": {},
   "outputs": [
    {
     "data": {
      "text/plain": [
       "(5, [0, 1, 2, 3, 4, 2, 2, 3, 3, 4])"
      ]
     },
     "execution_count": 28,
     "metadata": {},
     "output_type": "execute_result"
    }
   ],
   "source": [
    "# 26. Remove Duplicates from Sorted Array\n",
    "\n",
    "nums = [0,0,1,1,1,2,2,3,3,4]\n",
    "\n",
    "def f(nums):\n",
    "    n = len(nums)\n",
    "\n",
    "    if n == 0:\n",
    "        return 0\n",
    "    \n",
    "    low, high = 1,1\n",
    "\n",
    "    while high < n:\n",
    "        if nums[high] != nums[low - 1]:\n",
    "            nums[low] = nums[high]\n",
    "            low +=1\n",
    "        high +=1\n",
    "\n",
    "    return low\n",
    "\n",
    "f(nums)\n",
    "\n"
   ]
  },
  {
   "cell_type": "code",
   "execution_count": null,
   "metadata": {},
   "outputs": [
    {
     "data": {
      "text/plain": [
       "[5, 6, 7, 4, 1, 2, 3]"
      ]
     },
     "execution_count": 42,
     "metadata": {},
     "output_type": "execute_result"
    }
   ],
   "source": [
    "# 189. Rotate Array - Sol 1\n",
    "nums = [1,2,3,4,5,6,7]\n",
    "k = 3\n",
    "\n",
    "nums[-k:], nums[:k] = nums[:k], nums[-k:] \n",
    "\n",
    "nums\n",
    "    "
   ]
  },
  {
   "cell_type": "code",
   "execution_count": null,
   "metadata": {},
   "outputs": [
    {
     "data": {
      "text/plain": [
       "[5, 6, 7, 1, 2, 3, 4]"
      ]
     },
     "execution_count": 49,
     "metadata": {},
     "output_type": "execute_result"
    }
   ],
   "source": [
    "# 189. Rotate Array - Sol 2\n",
    "nums = [1,2,3,4,5,6,7]\n",
    "k = 3\n",
    "\n",
    "nums.reverse()\n",
    "\n",
    "nums[:k] = reversed(nums[:k])\n",
    "nums[k:] = reversed(nums[k:])\n",
    "\n",
    "nums"
   ]
  },
  {
   "cell_type": "code",
   "execution_count": null,
   "metadata": {},
   "outputs": [],
   "source": []
  }
 ],
 "metadata": {
  "kernelspec": {
   "display_name": "Python 3",
   "language": "python",
   "name": "python3"
  },
  "language_info": {
   "codemirror_mode": {
    "name": "ipython",
    "version": 3
   },
   "file_extension": ".py",
   "mimetype": "text/x-python",
   "name": "python",
   "nbconvert_exporter": "python",
   "pygments_lexer": "ipython3",
   "version": "3.11.5"
  }
 },
 "nbformat": 4,
 "nbformat_minor": 2
}
