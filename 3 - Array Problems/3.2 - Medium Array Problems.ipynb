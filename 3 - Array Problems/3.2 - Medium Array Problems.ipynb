{
 "cells": [
  {
   "cell_type": "code",
   "execution_count": null,
   "metadata": {},
   "outputs": [
    {
     "data": {
      "text/plain": [
       "1"
      ]
     },
     "execution_count": 2,
     "metadata": {},
     "output_type": "execute_result"
    }
   ],
   "source": [
    "# Moore's Voting Algorithm\n",
    "\n",
    "nums = [2,2,1,1,1,2,2,1,1]\n",
    "\n",
    "def f(nums):\n",
    "    count = 0\n",
    "    candidate = 0\n",
    "\n",
    "    for n in nums:\n",
    "        if count == 0:\n",
    "            candidate = n\n",
    "        \n",
    "        if n == candidate:\n",
    "            count +=1\n",
    "\n",
    "        if n != candidate:\n",
    "            count -=1\n",
    "\n",
    "    return candidate\n",
    "\n",
    "\n",
    "f(nums)"
   ]
  },
  {
   "cell_type": "code",
   "execution_count": null,
   "metadata": {},
   "outputs": [
    {
     "data": {
      "text/plain": [
       "(3, 6)"
      ]
     },
     "execution_count": 14,
     "metadata": {},
     "output_type": "execute_result"
    }
   ],
   "source": [
    "# Kadane's Algorithm\n",
    "\n",
    "nums = [-2,1,-3,4,-1,2,1,-5,4] \n",
    "\n",
    "\n",
    "def f(nums):\n",
    "    sum = 0\n",
    "    maxsum = float('-inf')\n",
    "    start = end = s = 0\n",
    "    for i in range(len(nums)):\n",
    "\n",
    "        if sum < 0:\n",
    "            sum = 0\n",
    "            s = i+1\n",
    "\n",
    "        sum +=nums[i]\n",
    "        if sum > maxsum:\n",
    "            maxsum = sum\n",
    "            start = s\n",
    "            end = i\n",
    "\n",
    "    return start, end\n",
    "\n",
    "f(nums)"
   ]
  },
  {
   "cell_type": "code",
   "execution_count": null,
   "metadata": {},
   "outputs": [
    {
     "data": {
      "text/plain": [
       "-inf"
      ]
     },
     "execution_count": 9,
     "metadata": {},
     "output_type": "execute_result"
    }
   ],
   "source": []
  },
  {
   "cell_type": "code",
   "execution_count": null,
   "metadata": {},
   "outputs": [],
   "source": []
  }
 ],
 "metadata": {
  "kernelspec": {
   "display_name": "Python 3",
   "language": "python",
   "name": "python3"
  },
  "language_info": {
   "codemirror_mode": {
    "name": "ipython",
    "version": 3
   },
   "file_extension": ".py",
   "mimetype": "text/x-python",
   "name": "python",
   "nbconvert_exporter": "python",
   "pygments_lexer": "ipython3",
   "version": "3.11.5"
  }
 },
 "nbformat": 4,
 "nbformat_minor": 2
}
