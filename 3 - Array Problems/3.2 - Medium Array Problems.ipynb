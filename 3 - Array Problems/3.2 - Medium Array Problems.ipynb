{
 "cells": [
  {
   "cell_type": "code",
   "execution_count": null,
   "metadata": {},
   "outputs": [
    {
     "data": {
      "text/plain": [
       "1"
      ]
     },
     "execution_count": 2,
     "metadata": {},
     "output_type": "execute_result"
    }
   ],
   "source": [
    "# Moore's Voting Algorithm\n",
    "\n",
    "nums = [2,2,1,1,1,2,2,1,1]\n",
    "\n",
    "def f(nums):\n",
    "    count = 0\n",
    "    candidate = 0\n",
    "\n",
    "    for n in nums:\n",
    "        if count == 0:\n",
    "            candidate = n\n",
    "        \n",
    "        if n == candidate:\n",
    "            count +=1\n",
    "\n",
    "        if n != candidate:\n",
    "            count -=1\n",
    "\n",
    "    return candidate\n",
    "\n",
    "\n",
    "f(nums)"
   ]
  },
  {
   "cell_type": "code",
   "execution_count": null,
   "metadata": {},
   "outputs": [
    {
     "data": {
      "text/plain": [
       "(3, 6)"
      ]
     },
     "execution_count": 14,
     "metadata": {},
     "output_type": "execute_result"
    }
   ],
   "source": [
    "# Kadane's Algorithm\n",
    "\n",
    "nums = [-2,1,-3,4,-1,2,1,-5,4] \n",
    "\n",
    "\n",
    "def f(nums):\n",
    "    sum = 0\n",
    "    maxsum = float('-inf')\n",
    "    start = end = s = 0\n",
    "    for i in range(len(nums)):\n",
    "\n",
    "        if sum < 0:\n",
    "            sum = 0\n",
    "            s = i+1\n",
    "\n",
    "        sum +=nums[i]\n",
    "        if sum > maxsum:\n",
    "            maxsum = sum\n",
    "            start = s\n",
    "            end = i\n",
    "\n",
    "    return start, end\n",
    "\n",
    "f(nums)"
   ]
  },
  {
   "cell_type": "code",
   "execution_count": 19,
   "metadata": {},
   "outputs": [
    {
     "data": {
      "text/plain": [
       "0"
      ]
     },
     "execution_count": 19,
     "metadata": {},
     "output_type": "execute_result"
    }
   ],
   "source": [
    "prices = [7,6,4,3,1]\n",
    "\n",
    "def f(prices):\n",
    "\n",
    "    low, high = 0,1\n",
    "    n = len(prices)\n",
    "    maxprofit = 0\n",
    "\n",
    "    while high < n:\n",
    "        if prices[high] < prices[low]:\n",
    "            low = high\n",
    "            high +=1\n",
    "        \n",
    "        else:\n",
    "            maxprofit = max(maxprofit,prices[high] - prices[low])\n",
    "            high +=1\n",
    "\n",
    "    return maxprofit\n",
    "\n",
    "f(prices)"
   ]
  },
  {
   "cell_type": "code",
   "execution_count": 33,
   "metadata": {},
   "outputs": [
    {
     "data": {
      "text/plain": [
       "[3, -2, 1, -5, 2, -4]"
      ]
     },
     "execution_count": 33,
     "metadata": {},
     "output_type": "execute_result"
    }
   ],
   "source": [
    "nums = [3,1,-2,-5,2,-4]\n",
    "\n",
    "def f(nums):\n",
    "    n = len(nums)\n",
    "    pos,neg = 0,0\n",
    "    ans = [0 for _ in range(n)]\n",
    "\n",
    "    for i in range(n):            \n",
    "        if nums[i] > 0:\n",
    "            ans[pos * 2] = nums[i]\n",
    "            pos += 1\n",
    "\n",
    "        else:\n",
    "            ans[neg * 2 + 1] = nums[i]\n",
    "            neg += 1\n",
    "\n",
    "    return ans\n",
    "\n",
    "\n",
    "f(nums)"
   ]
  },
  {
   "cell_type": "code",
   "execution_count": 35,
   "metadata": {},
   "outputs": [
    {
     "data": {
      "text/plain": [
       "[1, 3, 2]"
      ]
     },
     "execution_count": 35,
     "metadata": {},
     "output_type": "execute_result"
    }
   ],
   "source": [
    "# 31. Next Permutation\n",
    "\n",
    "nums = [1,2,3]\n",
    "\n",
    "def f(a):\n",
    "    idx = -1\n",
    "    n = len(nums)\n",
    "\n",
    "    for i in range(n-2, -1, -1):\n",
    "        if a[i] < a[i+1]:\n",
    "            idx = i\n",
    "            break\n",
    "    \n",
    "    if idx == -1:\n",
    "        a.reverse()\n",
    "        return a\n",
    "    \n",
    "    for i in range(n-1, idx,-1):\n",
    "        if a[i] > a[idx]:\n",
    "            a[i], a[idx] = a[idx], a[i]\n",
    "            break\n",
    "\n",
    "    a[idx+1:] = reversed(a[idx+1:])\n",
    "    return a\n",
    "\n",
    "f(nums)"
   ]
  },
  {
   "cell_type": "code",
   "execution_count": 44,
   "metadata": {},
   "outputs": [
    {
     "data": {
      "text/plain": [
       "[61, 61, 17]"
      ]
     },
     "execution_count": 44,
     "metadata": {},
     "output_type": "execute_result"
    }
   ],
   "source": [
    "# Array Leaders\n",
    "\n",
    "nums = [61,61,17]\n",
    "\n",
    "def f(nums):\n",
    "    n = len(nums)\n",
    "    maxnum = -1\n",
    "    ans = []\n",
    "\n",
    "    for i in range(n-1,-1,-1):\n",
    "        if nums[i] >= maxnum:\n",
    "            maxnum = nums[i]\n",
    "            ans.append(nums[i])\n",
    "\n",
    "    ans.reverse()\n",
    "    return ans\n",
    "\n",
    "\n",
    "f(nums)"
   ]
  },
  {
   "cell_type": "code",
   "execution_count": null,
   "metadata": {},
   "outputs": [
    {
     "data": {
      "text/plain": [
       "(3, [-1, -1, 0, 1, 3, 4, 5, 6, 7, 8, 9])"
      ]
     },
     "execution_count": 56,
     "metadata": {},
     "output_type": "execute_result"
    }
   ],
   "source": [
    "# 128. Longest Consecutive Sequence\n",
    "\n",
    "nums = [9,1,4,7,3,-1,0,5,8,-1,6]\n",
    "\n",
    "def f(nums):\n",
    "    n = len(nums)\n",
    "    if n == 0:\n",
    "        return 0\n",
    "\n",
    "    longest = 1\n",
    "    st = set()\n",
    "    # put all the array elements into set\n",
    "    for i in range(n):\n",
    "        st.add(nums[i])\n",
    "\n",
    "    # Find the longest sequence\n",
    "    for it in st:\n",
    "        # if 'it' is a starting number\n",
    "        if it - 1 not in st:\n",
    "            # find consecutive numbers\n",
    "            cnt = 1\n",
    "            x = it\n",
    "            while x + 1 in st:\n",
    "                x += 1\n",
    "                cnt += 1\n",
    "            longest = max(longest, cnt)\n",
    "    return longest\n",
    "\n",
    "f(nums)"
   ]
  },
  {
   "cell_type": "code",
   "execution_count": null,
   "metadata": {},
   "outputs": [
    {
     "ename": "IndentationError",
     "evalue": "expected an indented block after 'if' statement on line 21 (3852526047.py, line 22)",
     "output_type": "error",
     "traceback": [
      "\u001b[1;36m  Cell \u001b[1;32mIn[4], line 22\u001b[1;36m\u001b[0m\n\u001b[1;33m    f(matrix)\u001b[0m\n\u001b[1;37m             ^\u001b[0m\n\u001b[1;31mIndentationError\u001b[0m\u001b[1;31m:\u001b[0m expected an indented block after 'if' statement on line 21\n"
     ]
    }
   ],
   "source": [
    "matrix = [[1,1,1],[1,0,1],[1,1,1]]\n",
    "\n",
    "def f(matrix):\n",
    "    rows,cols = len(matrix), len(matrix[0])\n",
    "    col0 = 1\n",
    "\n",
    "    for row in range(rows):\n",
    "        for col in range(cols):\n",
    "            if matrix[row][col] == 0:\n",
    "                \n",
    "                matrix[row][0] = 0\n",
    "\n",
    "                if col != 0:\n",
    "                    matrix[0][col] = 0\n",
    "                else:\n",
    "                    col0 = 0\n",
    "\n",
    "    \n",
    "    for row in range(1,rows):\n",
    "        for col in range(1,cols):     \n",
    "            if matrix[row][col] != 0:\n",
    "                if matrix[0][col] == 0 or matrix[row][0]:\n",
    "                    matrix[row][col] = 0\n",
    "\n",
    "\n",
    "    if matrix[0][0] == 0:\n",
    "        for col in range(cols):\n",
    "            matrix[0][col] = 0\n",
    "\n",
    "    if col0 == 0:\n",
    "        for row in range(rows):\n",
    "            matrix[row][0] = 0\n",
    "\n",
    "\n",
    "f(matrix)"
   ]
  },
  {
   "cell_type": "code",
   "execution_count": 10,
   "metadata": {},
   "outputs": [
    {
     "name": "stdout",
     "output_type": "stream",
     "text": [
      "[[7, 4, 1], [8, 5, 2], [9, 6, 3]]\n"
     ]
    }
   ],
   "source": [
    "# Rotate Matrix Clockwise 90 Degree\n",
    "\n",
    "# Step 1: Transpose\n",
    "# Step 2: Reverse All Rows\n",
    "\n",
    "matrix = [[1,2,3],[4,5,6],[7,8,9]]\n",
    "\n",
    "def f(matrix):\n",
    "    rows = cols = len(matrix)\n",
    "\n",
    "    # Transpose\n",
    "\n",
    "    for row in range(rows):\n",
    "        for col in range(row + 1, cols):\n",
    "\n",
    "            if row != col:\n",
    "                matrix[row][col], matrix[col][row] =matrix[col][row],  matrix[row][col] \n",
    "\n",
    "\n",
    "    # Reverse\n",
    "\n",
    "    for row in range(rows):\n",
    "        matrix[row].reverse()\n",
    "    \n",
    "    return matrix\n",
    "\n",
    "\n",
    "print(f(matrix))"
   ]
  },
  {
   "cell_type": "code",
   "execution_count": 13,
   "metadata": {},
   "outputs": [
    {
     "data": {
      "text/plain": [
       "[1, 2, 3, 6, 9, 8, 7, 4, 5]"
      ]
     },
     "execution_count": 13,
     "metadata": {},
     "output_type": "execute_result"
    }
   ],
   "source": [
    "# Matrix Spiral\n",
    "\n",
    "matrix = [[1,2,3],[4,5,6],[7,8,9]]\n",
    "\n",
    "\n",
    "def f(mat):\n",
    "    n, m = len(mat), len(mat[0])\n",
    "    left, right, top, bottom = 0, m-1, 0, n-1\n",
    "\n",
    "    ans = []\n",
    "\n",
    "    while top <= bottom and left <= right:\n",
    "        for i in range(left, right + 1):\n",
    "            ans.append(mat[top][i])\n",
    "\n",
    "        top += 1\n",
    "\n",
    "        # For moving top to bottom.\n",
    "        for i in range(top, bottom + 1):\n",
    "            ans.append(mat[i][right])\n",
    "\n",
    "        right -= 1\n",
    "\n",
    "        # For moving right to left.\n",
    "        if (top <= bottom):\n",
    "            for i in range(right, left - 1, -1):\n",
    "                ans.append(mat[bottom][i])\n",
    "\n",
    "            bottom -= 1\n",
    "\n",
    "        # For moving bottom to top.\n",
    "        if (left <= right):\n",
    "            for i in range(bottom, top - 1, -1):\n",
    "                ans.append(mat[i][left])\n",
    "\n",
    "            left += 1\n",
    "\n",
    "    return ans\n",
    "\n",
    "\n",
    "f(matrix)\n"
   ]
  },
  {
   "cell_type": "code",
   "execution_count": null,
   "metadata": {},
   "outputs": [
    {
     "name": "stdout",
     "output_type": "stream",
     "text": [
      "2\n"
     ]
    }
   ],
   "source": [
    "# Sum of subarrays that add upto k \n",
    "\n",
    "nums = [1,2,3]\n",
    "k = 4\n",
    "\n",
    "def f(nums, k):\n",
    "    n = len(nums)\n",
    "    runningsum = 0\n",
    "    presum = {0:1}\n",
    "    count = 0\n",
    "\n",
    "\n",
    "    for i in range(n):\n",
    "        runningsum += nums[i]\n",
    "\n",
    "        if remainder in presum:\n",
    "            count += presum[remainder]\n",
    "            \n",
    "        if runningsum in presum:\n",
    "            presum[runningsum] += 1\n",
    "        else:\n",
    "            presum[runningsum] = 1\n",
    "\n",
    "        remainder = runningsum - k\n",
    "\n",
    "\n",
    "    return count\n",
    "        \n",
    "print(f(nums,k))\n"
   ]
  },
  {
   "cell_type": "code",
   "execution_count": null,
   "metadata": {},
   "outputs": [
    {
     "name": "stdout",
     "output_type": "stream",
     "text": [
      "float 534 0.958000\n"
     ]
    }
   ],
   "source": [
    "a = float(input())\n",
    "print(f'int {int(a)}') if a.is_integer() else print(f'float {int(a)} {(a - int(a)):3f}')"
   ]
  },
  {
   "cell_type": "code",
   "execution_count": null,
   "metadata": {},
   "outputs": [
    {
     "data": {
      "text/plain": [
       "'float 534.958'"
      ]
     },
     "execution_count": 15,
     "metadata": {},
     "output_type": "execute_result"
    }
   ],
   "source": [
    "a = 534.958\n"
   ]
  },
  {
   "cell_type": "code",
   "execution_count": null,
   "metadata": {},
   "outputs": [],
   "source": []
  }
 ],
 "metadata": {
  "kernelspec": {
   "display_name": "Python 3",
   "language": "python",
   "name": "python3"
  },
  "language_info": {
   "codemirror_mode": {
    "name": "ipython",
    "version": 3
   },
   "file_extension": ".py",
   "mimetype": "text/x-python",
   "name": "python",
   "nbconvert_exporter": "python",
   "pygments_lexer": "ipython3",
   "version": "3.11.5"
  }
 },
 "nbformat": 4,
 "nbformat_minor": 2
}
