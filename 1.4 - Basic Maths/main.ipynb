{
 "cells": [
  {
   "cell_type": "code",
   "execution_count": 10,
   "metadata": {},
   "outputs": [
    {
     "name": "stdout",
     "output_type": "stream",
     "text": [
      "6\n"
     ]
    }
   ],
   "source": [
    "# Count Digits In Integer N\n",
    "\n",
    "n = 193283\n",
    "c = 0\n",
    "while n>0:\n",
    "    c += 1\n",
    "    n = n//10\n",
    "print(c)"
   ]
  },
  {
   "cell_type": "code",
   "execution_count": 11,
   "metadata": {},
   "outputs": [
    {
     "name": "stdout",
     "output_type": "stream",
     "text": [
      "6\n"
     ]
    }
   ],
   "source": [
    "# Count Digits In Integer N-2\n",
    "import math\n",
    "\n",
    "n = 123612\n",
    "\n",
    "print(int(math.log10(n)+1))"
   ]
  },
  {
   "cell_type": "code",
   "execution_count": 13,
   "metadata": {},
   "outputs": [
    {
     "name": "stdout",
     "output_type": "stream",
     "text": [
      "216321\n"
     ]
    }
   ],
   "source": [
    "# Reverse Number\n",
    "import math\n",
    "\n",
    "n = 123612\n",
    "r = 0\n",
    "while n > 0:\n",
    "    l = n%10\n",
    "    r = r*10 + l\n",
    "    n = n//10\n",
    "\n",
    "print(r)"
   ]
  },
  {
   "cell_type": "code",
   "execution_count": 21,
   "metadata": {},
   "outputs": [
    {
     "name": "stdout",
     "output_type": "stream",
     "text": [
      "4554\n",
      "0\n",
      "Palindrome\n"
     ]
    }
   ],
   "source": [
    "# Palindrome\n",
    "\n",
    "n = 4554\n",
    "dup = n\n",
    "r = 0\n",
    "while n > 0:\n",
    "    l = n%10\n",
    "    r = r*10 + l\n",
    "    n = n//10\n",
    "\n",
    "if r == dup:\n",
    "    print('Palindrome')\n",
    "else:\n",
    "    print('Not A Palindrome')"
   ]
  },
  {
   "cell_type": "code",
   "execution_count": 31,
   "metadata": {},
   "outputs": [
    {
     "name": "stdout",
     "output_type": "stream",
     "text": [
      "Armstrong Number\n"
     ]
    }
   ],
   "source": [
    "# Armstrong Number\n",
    "import math\n",
    "n = 153\n",
    "dup = n\n",
    "c = int(math.log10(n) + 1)\n",
    "sum = 0\n",
    "while n > 0:\n",
    "    sum += (n%10)**c\n",
    "    n = n//10\n",
    "\n",
    "if sum == dup:\n",
    "    print('Armstrong Number')    \n",
    "\n",
    "else:\n",
    "    print('Not A Armstrong Number')    "
   ]
  },
  {
   "cell_type": "code",
   "execution_count": 32,
   "metadata": {},
   "outputs": [
    {
     "name": "stdout",
     "output_type": "stream",
     "text": [
      "1\n",
      "2\n",
      "3\n",
      "4\n",
      "6\n",
      "9\n",
      "12\n",
      "18\n",
      "36\n"
     ]
    }
   ],
   "source": [
    "# Print All Divisors\n",
    "\n",
    "n = 36\n",
    "\n",
    "for i in range(1,n+1):\n",
    "    if n % i == 0:\n",
    "        print(i)"
   ]
  },
  {
   "cell_type": "code",
   "execution_count": 39,
   "metadata": {},
   "outputs": [
    {
     "name": "stdout",
     "output_type": "stream",
     "text": [
      "[1, 2, 3, 4, 6, 9, 12, 18, 36]\n"
     ]
    }
   ],
   "source": [
    "n = 36\n",
    "r = []\n",
    "for i in range(1,int(n**0.5)+1):\n",
    "    if n % i == 0:\n",
    "        r.append(i)\n",
    "        if ((n/i) != i):\n",
    "            r.append(int(n/i))\n",
    "\n",
    "r.sort()\n",
    "print(r)\n"
   ]
  },
  {
   "cell_type": "code",
   "execution_count": null,
   "metadata": {},
   "outputs": [],
   "source": []
  }
 ],
 "metadata": {
  "kernelspec": {
   "display_name": "Python 3",
   "language": "python",
   "name": "python3"
  },
  "language_info": {
   "codemirror_mode": {
    "name": "ipython",
    "version": 3
   },
   "file_extension": ".py",
   "mimetype": "text/x-python",
   "name": "python",
   "nbconvert_exporter": "python",
   "pygments_lexer": "ipython3",
   "version": "3.13.0"
  }
 },
 "nbformat": 4,
 "nbformat_minor": 2
}
