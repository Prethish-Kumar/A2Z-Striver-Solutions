{
 "cells": [
  {
   "cell_type": "code",
   "execution_count": 11,
   "metadata": {},
   "outputs": [
    {
     "name": "stdout",
     "output_type": "stream",
     "text": [
      "7\n"
     ]
    }
   ],
   "source": [
    "def gcd(m,n):\n",
    "    fm =[]\n",
    "    for i in range(1,m+1):\n",
    "        if m% i ==0:\n",
    "            fm.append(i)\n",
    "    \n",
    "    fn =[]\n",
    "    for j in range(1,n+1):\n",
    "        if n% j ==0:\n",
    "            fn.append(j)\n",
    "\n",
    "    cf = []\n",
    "\n",
    "    for k in fm:\n",
    "        if k in fn:\n",
    "            cf.append(k)\n",
    "    return cf\n",
    "\n",
    "print(gcd(14,63)[-1])"
   ]
  },
  {
   "cell_type": "code",
   "execution_count": 12,
   "metadata": {},
   "outputs": [
    {
     "name": "stdout",
     "output_type": "stream",
     "text": [
      "7\n"
     ]
    }
   ],
   "source": [
    "def gcd(m,n):\n",
    "    cf = []\n",
    "    for i in range(1, min(m,n)+1):\n",
    "        if m % i == 0 and n % i == 0:\n",
    "            cf.append(i)\n",
    "\n",
    "    return cf[-1]\n",
    "\n",
    "print(gcd(14,63))"
   ]
  },
  {
   "cell_type": "code",
   "execution_count": 18,
   "metadata": {},
   "outputs": [
    {
     "name": "stdout",
     "output_type": "stream",
     "text": [
      "7\n"
     ]
    }
   ],
   "source": [
    "def gcd(m,n):\n",
    "    for i in range(1, min(m,n)+1):\n",
    "        if m % i == 0 and n % i == 0:\n",
    "            mrcf = i\n",
    "\n",
    "    return mrcf\n",
    "\n",
    "print(gcd(14,63))"
   ]
  },
  {
   "cell_type": "code",
   "execution_count": 21,
   "metadata": {},
   "outputs": [
    {
     "name": "stdout",
     "output_type": "stream",
     "text": [
      "7\n"
     ]
    }
   ],
   "source": [
    "def gcd(m,n):\n",
    "    for i in range(min(m,n),1,-1):\n",
    "        if m % i == 0 and n % i == 0:\n",
    "            mrcf = i\n",
    "\n",
    "    return mrcf\n",
    "\n",
    "print(gcd(14,63))"
   ]
  },
  {
   "cell_type": "code",
   "execution_count": 25,
   "metadata": {},
   "outputs": [
    {
     "name": "stdout",
     "output_type": "stream",
     "text": [
      "7\n"
     ]
    }
   ],
   "source": [
    "def gcd(m,n):\n",
    "    i = min(m,n)\n",
    "    \n",
    "    while i > 0:\n",
    "        if m % i == 0 and n % i == 0:\n",
    "            return i\n",
    "        i -= 1\n",
    "\n",
    "print(gcd(14,63))"
   ]
  },
  {
   "cell_type": "code",
   "execution_count": 1,
   "metadata": {},
   "outputs": [
    {
     "name": "stdout",
     "output_type": "stream",
     "text": [
      "150\n"
     ]
    }
   ],
   "source": [
    "def gcd(m,n):\n",
    "    if n > m:\n",
    "        m,n = n,m\n",
    "    while n:\n",
    "        m, n = n, m % n\n",
    "    return m\n",
    "\n",
    "print(gcd(750,900))"
   ]
  },
  {
   "cell_type": "code",
   "execution_count": 10,
   "metadata": {},
   "outputs": [
    {
     "name": "stdout",
     "output_type": "stream",
     "text": [
      "150\n"
     ]
    }
   ],
   "source": [
    "def gcd(m,n):\n",
    "    if n == 0:\n",
    "        return m\n",
    "    return gcd(n,m%n)\n",
    "\n",
    "print(gcd(750,900))"
   ]
  },
  {
   "cell_type": "code",
   "execution_count": null,
   "metadata": {},
   "outputs": [],
   "source": []
  }
 ],
 "metadata": {
  "kernelspec": {
   "display_name": "Python 3",
   "language": "python",
   "name": "python3"
  },
  "language_info": {
   "codemirror_mode": {
    "name": "ipython",
    "version": 3
   },
   "file_extension": ".py",
   "mimetype": "text/x-python",
   "name": "python",
   "nbconvert_exporter": "python",
   "pygments_lexer": "ipython3",
   "version": "3.13.0"
  }
 },
 "nbformat": 4,
 "nbformat_minor": 2
}
