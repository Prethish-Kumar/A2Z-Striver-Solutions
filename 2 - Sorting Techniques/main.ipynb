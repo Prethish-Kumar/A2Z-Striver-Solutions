{
 "cells": [
  {
   "cell_type": "code",
   "execution_count": 15,
   "metadata": {},
   "outputs": [
    {
     "name": "stdout",
     "output_type": "stream",
     "text": [
      "[9, 13, 20, 24, 46, 52]\n"
     ]
    }
   ],
   "source": [
    "a = [13,46,24,52,20,9]\n",
    "\n",
    "def selection_sort(a):\n",
    "    n = len(a)\n",
    "    for i in range(n-1):\n",
    "        min_idx = i\n",
    "        for x in range(i,n):\n",
    "            if a[x] < a[min_idx]:\n",
    "                min_idx = x\n",
    "\n",
    "        a[i],a[min_idx] = a[min_idx],a[i]\n",
    "\n",
    "    print(a) \n",
    "        \n",
    "selection_sort(a)"
   ]
  },
  {
   "cell_type": "code",
   "execution_count": null,
   "metadata": {},
   "outputs": [],
   "source": [
    "# Insertion Sort\n",
    "a = [22,50,6,19,14,40]\n",
    "\n",
    "for i in range(1,len(a)):\n",
    "    for j in range(i,0,-1):\n",
    "        if a[j] < a[j-1]:\n",
    "            a[j], a[j-1] = a[j-1], a[j]\n",
    "\n",
    "a"
   ]
  },
  {
   "cell_type": "code",
   "execution_count": null,
   "metadata": {},
   "outputs": [],
   "source": [
    "# Merge Sort\n",
    "\n",
    "arr = [3,2,4,1,3]\n",
    "\n",
    "def merge(arr, low, mid, high):\n",
    "    temp = []\n",
    "    left = low\n",
    "    right = mid + 1\n",
    "\n",
    "    while left <= mid and right <= high:\n",
    "        if arr[left] < arr[right]:\n",
    "            temp.append(arr[left])\n",
    "            left += 1\n",
    "        else:\n",
    "            temp.append(arr[right])\n",
    "            right += 1\n",
    "\n",
    "    while left <= mid:\n",
    "        temp.append(arr[left])\n",
    "        left +=1\n",
    "\n",
    "    while right <= high:\n",
    "        temp.append(arr[right])\n",
    "        right +=1\n",
    "\n",
    "    for i in range(low,high+1):\n",
    "        arr[i] = temp[i - low]\n",
    "\n",
    "\n",
    "\n",
    "\n",
    "def mergeSort(arr, low, high):\n",
    "    if low >= high:\n",
    "        return\n",
    "    mid = (low + high) // 2\n",
    "    mergeSort(arr,low, mid)\n",
    "    mergeSort(arr, mid + 1, high)\n",
    "    merge(arr, low, mid, high)\n",
    "\n",
    "mergeSort(arr, 0,len(arr)-1)\n",
    "arr"
   ]
  },
  {
   "cell_type": "code",
   "execution_count": null,
   "metadata": {},
   "outputs": [],
   "source": [
    "# Recursive Bubble Sort\n",
    "\n",
    "arr = [13,46,24,52,20,9]\n",
    "\n",
    "def bubbleSort(arr,n):\n",
    "    # Base Case\n",
    "    if n ==1:\n",
    "        return\n",
    "    \n",
    "    for i in range(n-1):\n",
    "        if arr[i] > arr[i+1]:\n",
    "            arr[i], arr[i+1] = arr[i+1], arr[i]\n",
    "\n",
    "    bubbleSort(arr, n-1)\n",
    "\n",
    "bubbleSort(arr,len(arr))"
   ]
  },
  {
   "cell_type": "code",
   "execution_count": null,
   "metadata": {},
   "outputs": [],
   "source": [
    "arr = [13,46,24,52,20,9]\n",
    "\n",
    "def bubbleSort(arr):\n",
    "    for i in range(len(arr)):\n",
    "        for j in range(len(arr)-1):\n",
    "            if arr[j] > arr[j+1]:\n",
    "                arr[j], arr[j+1] = arr[j+1], arr[j]\n",
    "\n",
    "bubbleSort(arr)\n"
   ]
  },
  {
   "cell_type": "code",
   "execution_count": null,
   "metadata": {},
   "outputs": [],
   "source": [
    "arr = [13,46,24,52,20,9]\n",
    "\n",
    "def insertionSort(a,n):\n",
    "    if n == 1:\n",
    "        return\n",
    "    for j in range(n-1,0,-1):\n",
    "        if a[j] < a[j-1]:\n",
    "            a[j], a[j-1] = a[j-1], a[j]\n",
    "    \n",
    "    insertionSort(a,n-1)\n",
    "\n",
    "insertionSort(arr,len(arr))\n",
    "\n",
    "arr"
   ]
  }
 ],
 "metadata": {
  "kernelspec": {
   "display_name": "Python 3",
   "language": "python",
   "name": "python3"
  },
  "language_info": {
   "codemirror_mode": {
    "name": "ipython",
    "version": 3
   },
   "file_extension": ".py",
   "mimetype": "text/x-python",
   "name": "python",
   "nbconvert_exporter": "python",
   "pygments_lexer": "ipython3",
   "version": "3.11.5"
  }
 },
 "nbformat": 4,
 "nbformat_minor": 2
}
