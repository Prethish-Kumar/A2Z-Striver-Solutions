{
 "cells": [
  {
   "cell_type": "code",
   "execution_count": 1,
   "metadata": {},
   "outputs": [
    {
     "name": "stdout",
     "output_type": "stream",
     "text": [
      "[9, 13, 20, 24, 46, 52]\n"
     ]
    }
   ],
   "source": [
    "a = [13,46,24,52,20,9]\n",
    "\n",
    "def selection_sort(a):\n",
    "    n = len(a)\n",
    "    for i in range(n-1):\n",
    "        min_idx = i\n",
    "        for x in range(i,n):\n",
    "            if a[x] < a[min_idx]:\n",
    "                min_idx = x\n",
    "\n",
    "        a[i],a[min_idx] = a[min_idx],a[i]\n",
    "\n",
    "    print(a) \n",
    "        \n",
    "selection_sort(a)"
   ]
  },
  {
   "cell_type": "code",
   "execution_count": null,
   "metadata": {},
   "outputs": [
    {
     "data": {
      "text/plain": [
       "46"
      ]
     },
     "execution_count": 19,
     "metadata": {},
     "output_type": "execute_result"
    }
   ],
   "source": []
  },
  {
   "cell_type": "code",
   "execution_count": null,
   "metadata": {},
   "outputs": [],
   "source": []
  }
 ],
 "metadata": {
  "kernelspec": {
   "display_name": "Python 3",
   "language": "python",
   "name": "python3"
  },
  "language_info": {
   "codemirror_mode": {
    "name": "ipython",
    "version": 3
   },
   "file_extension": ".py",
   "mimetype": "text/x-python",
   "name": "python",
   "nbconvert_exporter": "python",
   "pygments_lexer": "ipython3",
   "version": "3.13.0"
  }
 },
 "nbformat": 4,
 "nbformat_minor": 2
}
